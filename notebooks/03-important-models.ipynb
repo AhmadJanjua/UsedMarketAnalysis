{
 "cells": [
  {
   "cell_type": "code",
   "execution_count": 101,
   "id": "11d81e46",
   "metadata": {},
   "outputs": [],
   "source": [
    "import pandas as pd\n",
    "import re"
   ]
  },
  {
   "cell_type": "code",
   "execution_count": 123,
   "id": "9717d003",
   "metadata": {},
   "outputs": [
    {
     "name": "stdout",
     "output_type": "stream",
     "text": [
      "brand                 model                                  url\n",
      " Acer              Super ZX           acer_super_zx_5g-13796.php\n",
      " Acer Acerone Liquid S272E4 acer_acerone_liquid_s272e4-13757.php\n",
      " Acer Acerone Liquid S162E4 acer_acerone_liquid_s162e4-13756.php\n",
      " Acer     Chromebook Tab 10      acer_chromebook_tab_10-9139.php\n",
      " Acer         Iconia Talk S          acer_iconia_talk_s-8306.php\n"
     ]
    }
   ],
   "source": [
    "#  get entire phone, tablet, watch directory\n",
    "gsm_df = pd.read_json(\"../data/GSMArena.json\")\n",
    "print(gsm_df.head().to_string(index=False))"
   ]
  },
  {
   "cell_type": "code",
   "execution_count": 117,
   "id": "a81b3423",
   "metadata": {},
   "outputs": [
    {
     "data": {
      "text/plain": [
       "array(['Apple', 'Asus', 'BlackBerry', 'Google', 'Honor', 'HTC', 'Huawei',\n",
       "       'Lenovo', 'LG', 'Motorola', 'Nokia', 'OnePlus', 'Oppo', 'Realme',\n",
       "       'Samsung', 'Sony', 'TCL', 'vivo', 'Xiaomi', 'ZTE'], dtype=object)"
      ]
     },
     "metadata": {},
     "output_type": "display_data"
    }
   ],
   "source": [
    "display(gsm_df.brand.unique())"
   ]
  },
  {
   "cell_type": "markdown",
   "id": "aacf43a3",
   "metadata": {},
   "source": [
    "# Focus\n",
    "According to\n",
    "[visualcapitalist](https://www.visualcapitalist.com/charted-americas-preferred-smartphone-brands/),\n",
    "[internationalbrandequity](https://www.internationalbrandequity.com/best-mobile-phone-brands/), and\n",
    "[manufacturingdigital](https://manufacturingdigital.com/top10/top-10-phone-manufacturers)\n",
    "the most popular manifacturers were:\n",
    "- Apple\n",
    "- Samsung\n",
    "- Motorola\n",
    "- Google\n",
    "- HTC\n",
    "- Huawei\n",
    "- Nokia\n",
    "- OnePlus\n",
    "- ZTE\n",
    "- vivo\n",
    "- Xiaomi\n",
    "- Oppo\n",
    "- Lenovo\n",
    "- Sony\n",
    "- Realme\n",
    "- LG\n",
    "\n",
    "Additional of Interest include:\n",
    "- Honor\n",
    "- Asus\n",
    "- BlackBerry\n",
    "- TCL\n",
    "\n",
    "The Nothing Phone is also of interest, but due to the vague nature of the name and common usage,\n",
    "it is omitted.\n"
   ]
  },
  {
   "cell_type": "code",
   "execution_count": 124,
   "id": "d136544f",
   "metadata": {},
   "outputs": [
    {
     "name": "stdout",
     "output_type": "stream",
     "text": [
      "     brand               model                                 url\n",
      "745  Apple  iPad Air 13 (2025)  apple_ipad_air_13_(2025)-13704.php\n",
      "746  Apple  iPad Air 11 (2025)  apple_ipad_air_11_(2025)-13703.php\n",
      "747  Apple         iPad (2025)         apple_ipad_(2025)-13702.php\n",
      "748  Apple          iPhone 16e          apple_iphone_16e-13395.php\n",
      "749  Apple    iPad mini (2024)    apple_ipad_mini_(2024)-13437.php\n"
     ]
    }
   ],
   "source": [
    "brand_subset = [\n",
    "    \"Apple\", \"Samsung\", \"Motorola\",\"Google\", \"HTC\",\n",
    "    \"Huawei\", \"Nokia\", \"OnePlus\", \"ZTE\", \"vivo\",\n",
    "    \"Xiaomi\", \"Oppo\", \"Lenovo\", \"Sony\", \"Realme\", \"LG\", \n",
    "    \"Honor\", \"Asus\", \"BlackBerry\", \"TCL\"\n",
    "]\n",
    "gsm_df = gsm_df.loc[gsm_df.brand.isin(brand_subset)]\n",
    "print(gsm_df.head())"
   ]
  },
  {
   "cell_type": "code",
   "execution_count": 116,
   "id": "cbe7e8b5",
   "metadata": {},
   "outputs": [
    {
     "data": {
      "text/plain": [
       "brand\n",
       "Apple         133\n",
       "Asus          207\n",
       "BlackBerry     92\n",
       "Google         34\n",
       "HTC           295\n",
       "Honor         270\n",
       "Huawei        487\n",
       "LG            667\n",
       "Lenovo        250\n",
       "Motorola      650\n",
       "Nokia         591\n",
       "OnePlus        94\n",
       "Oppo          350\n",
       "Realme        256\n",
       "Samsung       133\n",
       "Sony          161\n",
       "TCL            89\n",
       "Xiaomi        462\n",
       "ZTE           415\n",
       "vivo          544\n",
       "Name: model, dtype: int64"
      ]
     },
     "execution_count": 116,
     "metadata": {},
     "output_type": "execute_result"
    }
   ],
   "source": [
    "gsm_df.groupby(\"brand\")[\"model\"].count()"
   ]
  },
  {
   "cell_type": "markdown",
   "id": "6af649df",
   "metadata": {},
   "source": [
    "# Helper functions"
   ]
  },
  {
   "cell_type": "code",
   "execution_count": 125,
   "id": "b8770c73",
   "metadata": {},
   "outputs": [],
   "source": [
    "def normalize_whitespace(x: str):\n",
    "    return re.sub(r\"\\s+\", \" \", x).strip()\n",
    "\n",
    "def split_pattern(m: str, pattern: str, delim: str=\" \") -> str:\n",
    "    pattern = f\"(?i)(.*)\\\\b{pattern}\\\\b(.*)\"\n",
    "    srch = re.search(pattern, m)\n",
    "    if srch is None:\n",
    "        return m\n",
    "    else:\n",
    "        return delim.join(srch.groups())\n",
    "    \n",
    "def patternify(s: str) -> str:\n",
    "    s = s.replace(\"+\", \" plus\")\n",
    "    s = s.lower()\n",
    "    s = s.strip()\n",
    "    return r\"\\b\" + re.sub(r\"\\s+\", r\"\\\\s*\", s) + r\"\\b\""
   ]
  },
  {
   "cell_type": "markdown",
   "id": "abf6ec63",
   "metadata": {},
   "source": [
    "# Apple"
   ]
  },
  {
   "cell_type": "code",
   "execution_count": 126,
   "id": "7d33559a",
   "metadata": {},
   "outputs": [
    {
     "name": "stdout",
     "output_type": "stream",
     "text": [
      "brand      model                              url            pattern\n",
      "Apple         11         apple_iphone_11-9848.php             \\b11\\b\n",
      "Apple     11 Pro     apple_iphone_11_pro-9847.php       \\b11\\s*pro\\b\n",
      "Apple 11 Pro Max apple_iphone_11_pro_max-9846.php \\b11\\s*pro\\s*max\\b\n",
      "Apple         12        apple_iphone_12-10509.php             \\b12\\b\n",
      "Apple     12 Pro    apple_iphone_12_pro-10508.php       \\b12\\s*pro\\b\n"
     ]
    }
   ],
   "source": [
    "apple_df = gsm_df[gsm_df[\"brand\"] == \"Apple\"] \\\n",
    "    .copy() \\\n",
    "    .sort_values(\"model\")\n",
    "\n",
    "apple_filter = apple_df.model.apply(\n",
    "    lambda x: re.search(r\"(?i)(ipad|watch|CDMA)\", x) is None\n",
    ")\n",
    "apple_df = apple_df.loc[apple_filter]\n",
    "\n",
    "# remove year grouping - often not included in postings\n",
    "apple_df.model = apple_df.model.apply(\n",
    "    lambda x: re.sub(r\"\\(.*\\)\", \"\", x)\n",
    ")\n",
    "\n",
    "# after inspection, all the names are iphones, remove that when creating regex\n",
    "apple_df.model = apple_df.model.apply(\n",
    "    lambda x: re.sub(r\"(?i)iphone\", \"\", x)\n",
    ")\n",
    "\n",
    "# standardize the dataset\n",
    "apple_df.model = apple_df.model.apply(normalize_whitespace)\n",
    "apple_df = apple_df.loc[apple_df.model != \"\"]\n",
    "apple_df = apple_df.drop_duplicates(\"model\")\n",
    "\n",
    "\n",
    "# craft regex\n",
    "apple_df[\"pattern\"] = apple_df.model\\\n",
    "    .apply(split_pattern, args=(r\"(\\d+)([cegs]+)\",))\\\n",
    "    .apply(normalize_whitespace)\\\n",
    "    .apply(patternify)\n",
    "\n",
    "print(apple_df.head().to_string(index=False))"
   ]
  },
  {
   "cell_type": "markdown",
   "id": "9402dd7c",
   "metadata": {},
   "source": [
    "# Samsung"
   ]
  },
  {
   "cell_type": "code",
   "execution_count": 127,
   "id": "393ab0f2",
   "metadata": {},
   "outputs": [
    {
     "name": "stdout",
     "output_type": "stream",
     "text": [
      "  brand    model                               url         pattern\n",
      "Samsung      A04      samsung_galaxy_a04-11817.php        \\ba0?4\\b\n",
      "Samsung A04 Core samsung_galaxy_a04_core-11616.php \\ba0?4\\s*core\\b\n",
      "Samsung     A04e     samsung_galaxy_a04e-11945.php    \\ba0?4\\s*e\\b\n",
      "Samsung     A04s     samsung_galaxy_a04s-11803.php    \\ba0?4\\s*s\\b\n",
      "Samsung      A05      samsung_galaxy_a05-12583.php        \\ba0?5\\b\n"
     ]
    }
   ],
   "source": [
    "sam_df = gsm_df[gsm_df[\"brand\"] == \"Samsung\"] \\\n",
    "    .copy() \\\n",
    "    .sort_values(\"model\")\n",
    "\n",
    "sam_filter = sam_df.model.apply(\n",
    "    lambda x: re.search(r\"(?i)(watch|tab|sgh)\", x) is None\n",
    ")\n",
    "sam_df = sam_df.loc[sam_filter]\n",
    "\n",
    "# remove bracket information and band\n",
    "sam_df.model = sam_df.model.apply(\n",
    "    lambda x: re.sub(r\"(?i)(4g|5g|\\(.*\\))\", \"\", x)\n",
    ")\n",
    "\n",
    "# all smartphones are called galaxy\n",
    "sam_df = sam_df.loc[\n",
    "    sam_df.model.str.contains(\"galaxy\", case=False)\n",
    "]\n",
    "sam_df.model = sam_df.model.str.replace(\"Galaxy\", \"\")\n",
    "\n",
    "# standardize the dataset\n",
    "sam_df.model = sam_df.model.apply(normalize_whitespace)\n",
    "sam_df = sam_df.drop_duplicates([\"model\"], keep=\"first\")\n",
    "\n",
    "# regex\n",
    "sam_df[\"pattern\"] = sam_df.model\\\n",
    "    .apply(split_pattern, args=(r\"([a-z]+)(\\d+)([a-z]?)\",))\\\n",
    "    .apply(lambda x: re.sub(r\"\\b0\", r\"0?\", x))\\\n",
    "    .apply(lambda x: re.sub(r\"\\bA\\s\", \"A\", x))\\\n",
    "    .apply(normalize_whitespace)\\\n",
    "    .apply(patternify)\n",
    "\n",
    "print(sam_df.head().to_string(index=False))"
   ]
  },
  {
   "cell_type": "markdown",
   "id": "9cf4e289",
   "metadata": {},
   "source": [
    "# Google"
   ]
  },
  {
   "cell_type": "code",
   "execution_count": 128,
   "id": "1e05330e",
   "metadata": {},
   "outputs": [
    {
     "name": "stdout",
     "output_type": "stream",
     "text": [
      " brand model                        url    pattern\n",
      "Google     1      google_pixel-8346.php      \\b1\\b\n",
      "Google     2    google_pixel_2-8733.php      \\b2\\b\n",
      "Google  2 XL google_pixel_2_xl-8720.php \\b2\\s*xl\\b\n",
      "Google     3    google_pixel_3-9256.php      \\b3\\b\n",
      "Google  3 XL google_pixel_3_xl-9257.php \\b3\\s*xl\\b\n"
     ]
    }
   ],
   "source": [
    "google_df = gsm_df[gsm_df[\"brand\"] == \"Google\"]\\\n",
    "    .copy()\\\n",
    "    .sort_values(\"model\")\n",
    "\n",
    "# filter out tablets and watches\n",
    "google_filter = google_df.model.apply(\n",
    "    lambda x: re.search(r\"(?i)(watch|tablet)\", x) is None\n",
    ")\n",
    "google_df = google_df.loc[google_filter]\n",
    "\n",
    "# remove words\n",
    "google_df.model = google_df.model.str.replace(\"Pixel\", \"\")\n",
    "google_df.model = google_df.model.str.replace(\"5G\", \"\")\n",
    "\n",
    "# standardize\n",
    "google_df.model = google_df.model.apply(normalize_whitespace)\n",
    "google_df.model = google_df.model.apply(lambda x: x if x != \"\" else \"1\")\n",
    "google_df = google_df.loc[~google_df[\"model\"].isin([\"C\"])]\n",
    "google_df = google_df.drop_duplicates([\"model\"], keep='first')\n",
    "\n",
    "google_df[\"pattern\"] = google_df.model.apply(patternify)\n",
    "\n",
    "print(google_df.head().to_string(index=False))"
   ]
  },
  {
   "cell_type": "markdown",
   "id": "4e510a93",
   "metadata": {},
   "source": [
    "# Motorola"
   ]
  },
  {
   "cell_type": "code",
   "execution_count": 129,
   "id": "a8fb3ed0",
   "metadata": {},
   "outputs": [
    {
     "name": "stdout",
     "output_type": "stream",
     "text": [
      "   brand              model                                  url                       pattern\n",
      "Motorola            DROID 2            motorola_droid_2-3475.php                 \\bdroid\\s*2\\b\n",
      "Motorola     DROID 2 Global     motorola_droid_2_global-3636.php        \\bdroid\\s*2\\s*global\\b\n",
      "Motorola            DROID 3            motorola_droid_3-4036.php                 \\bdroid\\s*3\\b\n",
      "Motorola      DROID 4 XT894      motorola_droid_4_xt894-4418.php      \\bdroid\\s*4\\s*xt\\s*894\\b\n",
      "Motorola DROID BIONIC XT865 motorola_droid_bionic_xt865-4523.php \\bdroid\\s*bionic\\s*xt\\s*865\\b\n"
     ]
    }
   ],
   "source": [
    "moto_df = gsm_df.loc[gsm_df[\"brand\"] == \"Motorola\"] \\\n",
    "    .copy() \\\n",
    "    .sort_values(\"model\")\n",
    "\n",
    "# filter in or out specific groups\n",
    "moto_keep = moto_df.model.apply(\n",
    "    lambda x: re.search(r\"\\b(DROID|Edge|Moto|Nexus|One|Razr|ThinkPhone)\\b\", x) is not None\n",
    ")\n",
    "moto_discard = moto_df.model.apply(\n",
    "    lambda x: re.search(r\"(?i)(watch|pad|dual|tab|360|uw|xyboard)\", x) is None\n",
    ")\n",
    "moto_df = moto_df.loc[moto_keep & moto_discard]\n",
    "\n",
    "# replace 4G|5G|sub-groups\n",
    "moto_df.model = moto_df.model.apply(\n",
    "    lambda x: re.sub(r\"(?i)(4G|5G|\\(.*\\))\", \"\", x)\n",
    ")\n",
    "moto_df.model = moto_df.model.apply(\n",
    "    lambda x: re.sub(r\"20\\d{2}\", \"\", x)\n",
    ")\n",
    "\n",
    "moto_df.model = moto_df.model.str.replace(\"Moto\", \"\")\n",
    "\n",
    "# standardize\n",
    "moto_df.model = moto_df.model.apply(normalize_whitespace)\n",
    "moto_df = moto_df.drop_duplicates(\"model\", keep=\"first\")\n",
    "\n",
    "moto_df[\"pattern\"] = moto_df.model\\\n",
    "    .apply(split_pattern, args=(r\"([a-z]*)(\\d+)(s?)\",))\\\n",
    "    .apply(normalize_whitespace)\\\n",
    "    .apply(patternify)\n",
    "\n",
    "print(moto_df.head().to_string(index=False))"
   ]
  },
  {
   "cell_type": "markdown",
   "id": "c59f3e7f",
   "metadata": {},
   "source": [
    "# LG"
   ]
  },
  {
   "cell_type": "code",
   "execution_count": 130,
   "id": "bff44e12",
   "metadata": {},
   "outputs": [
    {
     "name": "stdout",
     "output_type": "stream",
     "text": [
      "brand      model                    url            pattern\n",
      "   LG     G Flex     lg_g_flex-5806.php       \\bg\\s*flex\\b\n",
      "   LG    G Flex2    lg_g_flex2-6916.php   \\bg\\s*flex\\s*2\\b\n",
      "   LG    G Pro 2    lg_g_pro_2-6052.php    \\bg\\s*pro\\s*2\\b\n",
      "   LG G Pro Lite lg_g_pro_lite-5772.php \\bg\\s*pro\\s*lite\\b\n",
      "   LG    G Stylo    lg_g_stylo-7245.php      \\bg\\s*stylo\\b\n"
     ]
    }
   ],
   "source": [
    "lg_df = gsm_df[gsm_df[\"brand\"] == \"LG\"] \\\n",
    "    .copy() \\\n",
    "    .sort_values(\"model\")\n",
    "\n",
    "# filter out tablets, watches, optimus, variants\n",
    "lg_discard = lg_df.model.apply(\n",
    "    lambda x: re.search(r\"(?i)(pad|watch|optimus|uw|dual|lte)\", x) is None\n",
    ")\n",
    "lg_discard2 = lg_df.model.apply(\n",
    "    lambda x: re.search(r\"\\b\\w\\d{3,4}\\b\", x) is None\n",
    ")\n",
    "lg_df = lg_df.loc[lg_discard & lg_discard2]\n",
    "\n",
    "# filter out thinQ, 5g, braces\n",
    "lg_df.model = lg_df.model.apply(\n",
    "    lambda x: re.sub(r\"(?i)(\\(.*\\)|5g|thinQ)\", \"\", x)\n",
    ")\n",
    "\n",
    "# extract series and models\n",
    "lg_series = lg_df.model.apply(\n",
    "    lambda x: re.search(r\"\\b(G|K|Q|V)\\d*\\b\", x) is None\n",
    ")\n",
    "lg_models = lg_df.model.apply(\n",
    "    lambda x: re.search(r\"(?i)\\b(nexus|stylo|stylus|velvet)\\b\", x) is None\n",
    ")\n",
    "lg_df = lg_df.loc[~lg_series | ~lg_models]\n",
    "\n",
    "# standardize datasets\n",
    "lg_df.model = lg_df.model.apply(normalize_whitespace)\n",
    "lg_df = lg_df.drop_duplicates(\"model\", keep=\"first\")\n",
    "\n",
    "\n",
    "lg_df[\"pattern\"] = lg_df.model\\\n",
    "    .apply(split_pattern, args=(r\"([a-z]+)(\\d+)\",))\\\n",
    "    .apply(lambda x: re.sub(r\"\\s+A\\b\", \"A\", x))\\\n",
    "    .apply(normalize_whitespace)\\\n",
    "    .apply(patternify)\n",
    "\n",
    "\n",
    "print(lg_df.head().to_string(index=False))\n"
   ]
  },
  {
   "cell_type": "markdown",
   "id": "69c2a0cd",
   "metadata": {},
   "source": [
    "# OnePlus"
   ]
  },
  {
   "cell_type": "code",
   "execution_count": 131,
   "id": "95058c05",
   "metadata": {},
   "outputs": [
    {
     "name": "stdout",
     "output_type": "stream",
     "text": [
      "        brand   model                       url       pattern\n",
      "7510  OnePlus  10 Pro  oneplus_10_pro-11234.php  \\b10\\s*pro\\b\n",
      "7507  OnePlus     10R     oneplus_10r-11445.php    \\b10\\s*r\\b\n",
      "7502  OnePlus     10T     oneplus_10t-11622.php    \\b10\\s*t\\b\n",
      "7497  OnePlus      11      oneplus_11-11893.php        \\b11\\b\n",
      "7495  OnePlus     11R     oneplus_11r-11915.php    \\b11\\s*r\\b\n"
     ]
    }
   ],
   "source": [
    "one_df = gsm_df[gsm_df[\"brand\"] == \"OnePlus\"] \\\n",
    "    .copy() \\\n",
    "    .sort_values(\"model\")\n",
    "\n",
    "# remove variants, watches, and tablets\n",
    "one_filter = one_df.model.apply(\n",
    "    lambda x: re.search(r\"(?i)(watch|pad|uw)\", x) is None\n",
    ")\n",
    "one_df = one_df.loc[one_filter]\n",
    "\n",
    "# remove variant tags\n",
    "one_df.model = one_df.model.apply(\n",
    "    lambda x: re.sub(r\"(?i)(5g|mclaren|racing|150w|\\(.*\\))\", \"\", x)\n",
    ")\n",
    "\n",
    "# standardize\n",
    "one_df.model = one_df.model.apply(normalize_whitespace)\n",
    "one_df = one_df.drop_duplicates(subset=[\"model\"])\n",
    "\n",
    "\n",
    "one_df[\"pattern\"] = one_df.model\\\n",
    "    .apply(normalize_whitespace)\\\n",
    "    .apply(split_pattern, args=(r\"(\\d+)([a-z\\+]+)\",))\\\n",
    "    .apply(split_pattern, args=(r\"([a-z]+)(\\d+)\",))\\\n",
    "    .apply(normalize_whitespace)\\\n",
    "    .apply(patternify)\n",
    "\n",
    "print(one_df.head().to_string())"
   ]
  },
  {
   "cell_type": "markdown",
   "id": "fee98294",
   "metadata": {},
   "source": [
    "## Inspection\n",
    "1. Based on the results\n",
    "    - most search results return apple, samsung, google, motorola, lg, oneplus\n",
    "2. Apple\n",
    "    - people often write apple or iphone\n",
    "        - for brand check have an alias for iphone as well\n",
    "        - remove from model check\n",
    "3. Samsung\n",
    "    - people often write samsung or galaxy\n",
    "        - alias samsung with galaxy\n",
    "        - remove from model check\n",
    "4. Google\n",
    "    - google or pixel\n",
    "5. Motorola\n",
    "    - motorola or moto\n",
    "6. Lg\n",
    "    - pretty standard\n",
    "7. Oneplus\n",
    "    - alias as one plus\n",
    "\n",
    "## General Notes\n",
    "- many names are contain +, sub with plus\n",
    "    - check names against plus not +\n",
    "\n",
    "## Procedure\n",
    "1. append title and description\n",
    "2. replace + with plus\n",
    "3. normalize the text a-z,0-9\n",
    "4. match against brand and alias\n",
    "7. if no brand is matched do a fuzzy match against brand acccept if over 90% certain\n",
    "5. for each brand match check against models subset if available\n",
    "6. if no models are found do a fuzzy match against the models\n",
    "7. if nothing is found set as other\n"
   ]
  },
  {
   "cell_type": "markdown",
   "id": "4b9f1e7d",
   "metadata": {},
   "source": [
    "# TABLES\n",
    "1. brand table\n",
    "    - brand, pattern\n",
    "2. model table\n",
    "    - brand, model, url, pattern"
   ]
  },
  {
   "cell_type": "code",
   "execution_count": 113,
   "id": "a5baa8c7",
   "metadata": {},
   "outputs": [
    {
     "name": "stdout",
     "output_type": "stream",
     "text": [
      "         brand               pattern\n",
      "0          HTC               \\bhtc\\b\n",
      "1       Huawei            \\bhuawei\\b\n",
      "2        Nokia             \\bnokia\\b\n",
      "3          ZTE               \\bzte\\b\n",
      "4         vivo              \\bvivo\\b\n",
      "5       Xiaomi            \\bxiaomi\\b\n",
      "6         Oppo              \\boppo\\b\n",
      "7       Lenovo            \\blenovo\\b\n",
      "8         Sony              \\bsony\\b\n",
      "9       Realme            \\brealme\\b\n",
      "10       Honor             \\bhonor\\b\n",
      "11        Asus              \\basus\\b\n",
      "12  BlackBerry        \\bblackberry\\b\n",
      "13         TCL               \\btcl\\b\n",
      "0        Apple    \\b(apple|iphone)\\b\n",
      "1      Samsung  \\b(samsung|galaxy)\\b\n",
      "2       Google    \\b(google|pixel)\\b\n",
      "3     Motorola   \\b(motorola|moto)\\b\n",
      "4           LG                \\blg\\b\n",
      "5      OnePlus        \\bone\\s*plus\\b\n"
     ]
    }
   ],
   "source": [
    "# Brand table\n",
    "brand_df = pd.DataFrame({\"brand\":[\n",
    "    \"HTC\", \"Huawei\", \"Nokia\", \"ZTE\", \"vivo\", \"Xiaomi\", \"Oppo\",\n",
    "    \"Lenovo\", \"Sony\", \"Realme\", \"Honor\", \"Asus\", \"BlackBerry\", \"TCL\"\n",
    "]})\n",
    "\n",
    "brand_df[\"pattern\"] = brand_df.brand.apply(lambda x: r\"\\b\" + x.lower() + r\"\\b\")\n",
    "\n",
    "brand_df = pd.concat([\n",
    "    brand_df,\n",
    "    pd.DataFrame([\n",
    "        {\"brand\": \"Apple\", \"pattern\": r\"\\b(apple|iphone)\\b\"},\n",
    "        {\"brand\": \"Samsung\", \"pattern\": r\"\\b(samsung|galaxy)\\b\"},\n",
    "        {\"brand\": \"Google\", \"pattern\": r\"\\b(google|pixel)\\b\"},\n",
    "        {\"brand\": \"Motorola\", \"pattern\": r\"\\b(motorola|moto)\\b\"},\n",
    "        {\"brand\": \"LG\", \"pattern\": r\"\\blg\\b\"},\n",
    "        {\"brand\": \"OnePlus\", \"pattern\": r\"\\bone\\s*plus\\b\"}\n",
    "    ])\n",
    "])\n",
    "\n",
    "print(brand_df)"
   ]
  },
  {
   "cell_type": "code",
   "execution_count": 132,
   "id": "4755b811",
   "metadata": {},
   "outputs": [
    {
     "name": "stdout",
     "output_type": "stream",
     "text": [
      "     brand       model                               url             pattern  length\n",
      "806  Apple          11          apple_iphone_11-9848.php              \\b11\\b       2\n",
      "805  Apple      11 Pro      apple_iphone_11_pro-9847.php        \\b11\\s*pro\\b       5\n",
      "804  Apple  11 Pro Max  apple_iphone_11_pro_max-9846.php  \\b11\\s*pro\\s*max\\b       8\n",
      "793  Apple          12         apple_iphone_12-10509.php              \\b12\\b       2\n",
      "792  Apple      12 Pro     apple_iphone_12_pro-10508.php        \\b12\\s*pro\\b       5\n"
     ]
    }
   ],
   "source": [
    "model_df = pd.concat(\n",
    "    [apple_df, sam_df, google_df, lg_df, one_df, moto_df]\n",
    ")\n",
    "\n",
    "model_df[\"length\"] = model_df.model.apply(lambda x: len(x.replace(\" \", \"\")))\n",
    "\n",
    "print(model_df.head().to_string())"
   ]
  },
  {
   "cell_type": "code",
   "execution_count": 115,
   "id": "0e75b64d",
   "metadata": {},
   "outputs": [],
   "source": [
    "model_df.to_csv(\"../data/cell_models.csv\", index=False)\n",
    "brand_df.to_csv(\"../data/cell_brand.csv\", index=False)"
   ]
  }
 ],
 "metadata": {
  "kernelspec": {
   "display_name": "usedMarket",
   "language": "python",
   "name": "python3"
  },
  "language_info": {
   "codemirror_mode": {
    "name": "ipython",
    "version": 3
   },
   "file_extension": ".py",
   "mimetype": "text/x-python",
   "name": "python",
   "nbconvert_exporter": "python",
   "pygments_lexer": "ipython3",
   "version": "3.13.5"
  }
 },
 "nbformat": 4,
 "nbformat_minor": 5
}
