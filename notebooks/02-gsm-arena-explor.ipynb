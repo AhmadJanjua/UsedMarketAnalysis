{
 "cells": [
  {
   "cell_type": "code",
   "execution_count": 31,
   "id": "2b55f706",
   "metadata": {},
   "outputs": [],
   "source": [
    "import requests\n",
    "import re\n",
    "import bs4\n",
    "from bs4 import BeautifulSoup"
   ]
  },
  {
   "cell_type": "code",
   "execution_count": 32,
   "id": "20b28d25",
   "metadata": {},
   "outputs": [],
   "source": [
    "HEADER = {\n",
    "    \"User-Agent\":\n",
    "    \"Mozilla/5.0 (Windows NT 10.0; Win64; x64) \"\n",
    "    \"AppleWebKit/537.36 (KHTML, like Gecko) \"\n",
    "    \"Chrome/139.0.0.0 Safari/537.36\"\n",
    "}\n",
    "\n",
    "BASE_URL = \"https://www.gsmarena.com/\""
   ]
  },
  {
   "cell_type": "code",
   "execution_count": 35,
   "id": "12a64d39",
   "metadata": {},
   "outputs": [],
   "source": [
    "all_brand_url = BASE_URL + \"makers.php3\"\n",
    "\n",
    "brand_page = requests.get(url=all_brand_url, headers=HEADER)\n",
    "brand_page.close()"
   ]
  },
  {
   "cell_type": "code",
   "execution_count": null,
   "id": "fc9ee52d",
   "metadata": {},
   "outputs": [],
   "source": [
    "brand_soup = BeautifulSoup(brand_page.text, features=\"html.parser\")\n",
    "print(brand_soup.prettify())"
   ]
  },
  {
   "cell_type": "markdown",
   "id": "196fa1f3",
   "metadata": {},
   "source": [
    "# Inspection Result\n",
    "- all the brands are stored in div class=\"st-text\" within a table\n",
    "- brands are stored as rows of two columns\n",
    "- each brand is stored in a cell (td tag)\n",
    "- each cell contains information such as:\n",
    "    - link to brand page\n",
    "    - name of phone\n",
    "    - quantity"
   ]
  },
  {
   "cell_type": "code",
   "execution_count": null,
   "id": "0352bb6e",
   "metadata": {},
   "outputs": [
    {
     "name": "stdout",
     "output_type": "stream",
     "text": [
      "Acer: link='acer-phones-59.php', quantity='104'\n",
      "alcatel: link='alcatel-phones-5.php', quantity='413'\n",
      "Allview: link='allview-phones-88.php', quantity='157'\n",
      "Amazon: link='amazon-phones-76.php', quantity='25'\n",
      "Amoi: link='amoi-phones-28.php', quantity='47'\n",
      "Apple: link='apple-phones-48.php', quantity='138'\n",
      "Archos: link='archos-phones-90.php', quantity='43'\n",
      "Asus: link='asus-phones-46.php', quantity='207'\n",
      "AT&amp;T: link='at&t-phones-57.php', quantity='4'\n",
      "Benefon: link='benefon-phones-15.php', quantity='9'\n",
      "BenQ: link='benq-phones-31.php', quantity='35'\n",
      "BenQ-Siemens: link='benq_siemens-phones-42.php', quantity='28'\n",
      "Bird: link='bird-phones-34.php', quantity='61'\n",
      "BlackBerry: link='blackberry-phones-36.php', quantity='92'\n",
      "Blackview: link='blackview-phones-116.php', quantity='99'\n",
      "BLU: link='blu-phones-67.php', quantity='369'\n",
      "Bosch: link='bosch-phones-10.php', quantity='10'\n",
      "BQ: link='bq-phones-108.php', quantity='20'\n",
      "Casio: link='casio-phones-77.php', quantity='5'\n",
      "Cat: link='cat-phones-89.php', quantity='22'\n",
      "Celkon: link='celkon-phones-75.php', quantity='229'\n",
      "Chea: link='chea-phones-24.php', quantity='12'\n",
      "Coolpad: link='coolpad-phones-105.php', quantity='53'\n",
      "Cubot: link='cubot-phones-130.php', quantity='92'\n",
      "Dell: link='dell-phones-61.php', quantity='20'\n",
      "Doogee: link='doogee-phones-129.php', quantity='135'\n",
      "Emporia: link='emporia-phones-93.php', quantity='15'\n",
      "Energizer: link='energizer-phones-106.php', quantity='78'\n",
      "Ericsson: link='ericsson-phones-2.php', quantity='40'\n",
      "Eten: link='eten-phones-40.php', quantity='22'\n",
      "Fairphone: link='fairphone-phones-127.php', quantity='5'\n",
      "Fujitsu Siemens: link='fujitsu_siemens-phones-50.php', quantity='2'\n",
      "Garmin-Asus: link='garmin_asus-phones-65.php', quantity='5'\n",
      "Gigabyte: link='gigabyte-phones-47.php', quantity='63'\n",
      "Gionee: link='gionee-phones-92.php', quantity='95'\n",
      "Google: link='google-phones-107.php', quantity='38'\n",
      "Haier: link='haier-phones-33.php', quantity='59'\n",
      "HMD: link='hmd-phones-133.php', quantity='24'\n",
      "Honor: link='honor-phones-121.php', quantity='271'\n",
      "HP: link='hp-phones-41.php', quantity='41'\n",
      "HTC: link='htc-phones-45.php', quantity='295'\n",
      "Huawei: link='huawei-phones-58.php', quantity='487'\n",
      "i-mate: link='i_mate-phones-35.php', quantity='34'\n",
      "i-mobile: link='i_mobile-phones-52.php', quantity='37'\n",
      "Icemobile: link='icemobile-phones-69.php', quantity='61'\n",
      "Infinix: link='infinix-phones-119.php', quantity='162'\n",
      "Innostream: link='innostream-phones-29.php', quantity='18'\n",
      "iNQ: link='inq-phones-60.php', quantity='5'\n",
      "Intex: link='intex-phones-102.php', quantity='15'\n",
      "itel: link='itel-phones-131.php', quantity='46'\n",
      "Jolla: link='jolla-phones-84.php', quantity='3'\n",
      "Karbonn: link='karbonn-phones-83.php', quantity='60'\n",
      "Kyocera: link='kyocera-phones-17.php', quantity='28'\n",
      "Lava: link='lava-phones-94.php', quantity='170'\n",
      "LeEco: link='leeco-phones-109.php', quantity='9'\n",
      "Lenovo: link='lenovo-phones-73.php', quantity='253'\n",
      "LG: link='lg-phones-20.php', quantity='667'\n",
      "Maxon: link='maxon-phones-14.php', quantity='31'\n",
      "Maxwest: link='maxwest-phones-87.php', quantity='41'\n",
      "Meizu: link='meizu-phones-74.php', quantity='86'\n",
      "Micromax: link='micromax-phones-66.php', quantity='289'\n",
      "Microsoft: link='microsoft-phones-64.php', quantity='32'\n",
      "Mitac: link='mitac-phones-25.php', quantity='12'\n",
      "Mitsubishi: link='mitsubishi-phones-8.php', quantity='25'\n",
      "Modu: link='modu-phones-63.php', quantity='8'\n",
      "Motorola: link='motorola-phones-4.php', quantity='658'\n",
      "MWg: link='mwg-phones-56.php', quantity='5'\n",
      "NEC: link='nec-phones-12.php', quantity='73'\n",
      "Neonode: link='neonode-phones-22.php', quantity='3'\n",
      "NIU: link='niu-phones-79.php', quantity='30'\n",
      "Nokia: link='nokia-phones-1.php', quantity='591'\n",
      "Nothing: link='nothing-phones-128.php', quantity='9'\n",
      "Nvidia: link='nvidia-phones-97.php', quantity='3'\n",
      "O2: link='o2-phones-30.php', quantity='45'\n",
      "OnePlus: link='oneplus-phones-95.php', quantity='94'\n",
      "Oppo: link='oppo-phones-82.php', quantity='354'\n",
      "Orange: link='orange-phones-71.php', quantity='19'\n",
      "Oscal: link='oscal-phones-134.php', quantity='29'\n",
      "Oukitel: link='oukitel-phones-132.php', quantity='74'\n",
      "Palm: link='palm-phones-27.php', quantity='17'\n",
      "Panasonic: link='panasonic-phones-6.php', quantity='123'\n",
      "Pantech: link='pantech-phones-32.php', quantity='72'\n",
      "Parla: link='parla-phones-81.php', quantity='10'\n",
      "Philips: link='philips-phones-11.php', quantity='233'\n",
      "Plum: link='plum-phones-72.php', quantity='113'\n",
      "Posh: link='posh-phones-101.php', quantity='30'\n",
      "Prestigio: link='prestigio-phones-86.php', quantity='56'\n",
      "QMobile: link='qmobile-phones-103.php', quantity='90'\n",
      "Qtek: link='qtek-phones-38.php', quantity='21'\n",
      "Razer: link='razer-phones-117.php', quantity='2'\n",
      "Realme: link='realme-phones-118.php', quantity='256'\n",
      "Sagem: link='sagem-phones-13.php', quantity='120'\n",
      "Samsung: link='samsung-phones-9.php', quantity='1438'\n",
      "Sendo: link='sendo-phones-18.php', quantity='19'\n",
      "Sewon: link='sewon-phones-26.php', quantity='25'\n",
      "Sharp: link='sharp-phones-23.php', quantity='81'\n",
      "Siemens: link='siemens-phones-3.php', quantity='94'\n",
      "Sonim: link='sonim-phones-54.php', quantity='22'\n",
      "Sony: link='sony-phones-7.php', quantity='161'\n",
      "Sony Ericsson: link='sony_ericsson-phones-19.php', quantity='188'\n",
      "Spice: link='spice-phones-68.php', quantity='120'\n",
      "T-Mobile: link='t_mobile-phones-55.php', quantity='67'\n",
      "TCL: link='tcl-phones-123.php', quantity='89'\n",
      "Tecno: link='tecno-phones-120.php', quantity='172'\n",
      "Tel.Me.: link='tel_me_-phones-21.php', quantity='7'\n",
      "Telit: link='telit-phones-16.php', quantity='30'\n",
      "Thuraya: link='thuraya-phones-49.php', quantity='2'\n",
      "Toshiba: link='toshiba-phones-44.php', quantity='35'\n",
      "Ulefone: link='ulefone-phones-124.php', quantity='127'\n",
      "Umidigi: link='umidigi-phones-135.php', quantity='76'\n",
      "Unnecto: link='unnecto-phones-91.php', quantity='30'\n",
      "Vertu: link='vertu-phones-39.php', quantity='17'\n",
      "verykool: link='verykool-phones-70.php', quantity='139'\n",
      "vivo: link='vivo-phones-98.php', quantity='544'\n",
      "VK Mobile: link='vk_mobile-phones-37.php', quantity='31'\n",
      "Vodafone: link='vodafone-phones-53.php', quantity='87'\n",
      "Wiko: link='wiko-phones-96.php', quantity='101'\n",
      "WND: link='wnd-phones-51.php', quantity='5'\n",
      "XCute: link='xcute-phones-43.php', quantity='4'\n",
      "Xiaomi: link='xiaomi-phones-80.php', quantity='463'\n",
      "XOLO: link='xolo-phones-85.php', quantity='81'\n",
      "Yezz: link='yezz-phones-78.php', quantity='113'\n",
      "Yota: link='yota-phones-99.php', quantity='3'\n",
      "YU: link='yu-phones-100.php', quantity='13'\n",
      "ZTE: link='zte-phones-62.php', quantity='415'\n"
     ]
    }
   ],
   "source": [
    "table_elements = brand_soup.find_all(\"table\")[0]\n",
    "td_elements = table_elements.findAll(\"td\")\n",
    "\n",
    "PATTERN = r\">([^<]+)<br/><span>(\\d+).+</span>\"\n",
    "\n",
    "all_brands = {}\n",
    "\n",
    "for elm in td_elements:\n",
    "    if (type(elm) != bs4.element.Tag):\n",
    "        continue\n",
    "    elm_match = re.search(PATTERN, str(elm))\n",
    "    \n",
    "    if elm_match is None:\n",
    "        print(f\"Error: couldnt find match:\\n{elm}\")\n",
    "\n",
    "    link = elm.find(\"a\").attrs[\"href\"]\n",
    "    brand, quantity = elm_match.groups()\n",
    "\n",
    "    all_brands[brand] = {\"url\": link, \"quantity\": int(quantity)}\n",
    "    print(f\"{brand}: {link=}, {quantity=}\")\n"
   ]
  },
  {
   "cell_type": "code",
   "execution_count": null,
   "id": "266a7566",
   "metadata": {},
   "outputs": [],
   "source": [
    "brand_phone_url = BASE_URL + link\n",
    "\n",
    "phone_page = requests.get(brand_phone_url, headers=HEADER)\n",
    "phone_page.close()\n",
    "\n",
    "phone_soup = BeautifulSoup(phone_page.text)\n",
    "print(phone_soup.prettify())"
   ]
  },
  {
   "cell_type": "markdown",
   "id": "9cb36448",
   "metadata": {},
   "source": [
    "# Inspection Results\n",
    "- Brand phone makes\n",
    "    - contained as a-tags in the \"makers\" class div\n",
    "    - contains the name of the make and link for each individual phone\n",
    "- Brand Page navigation\n",
    "    - contained as a-tags in the 'nav-pages' class div\n",
    "    - contains pages + prev + next"
   ]
  },
  {
   "cell_type": "code",
   "execution_count": 65,
   "id": "6396b225",
   "metadata": {},
   "outputs": [
    {
     "name": "stdout",
     "output_type": "stream",
     "text": [
      "Page 2 - zte-phones-f-62-0-p2.php\n",
      "Page 3 - zte-phones-f-62-0-p3.php\n",
      "Page 4 - zte-phones-f-62-0-p4.php\n",
      "Page 5 - zte-phones-f-62-0-p5.php\n",
      "Page 6 - zte-phones-f-62-0-p6.php\n",
      "Page 7 - zte-phones-f-62-0-p7.php\n",
      "Page 8 - zte-phones-f-62-0-p8.php\n",
      "Page 9 - zte-phones-f-62-0-p9.php\n"
     ]
    }
   ],
   "source": [
    "# navigation buttons - div class=\"nav-pages\"\n",
    "nav_elm = phone_soup.find(\"div\", attrs={'class': 'nav-pages'}).find_all(\"a\")\n",
    "for page_num in nav_elm:\n",
    "    if page_num.text.isnumeric():\n",
    "        print(f\"Page {page_num.text} - {page_num.attrs[\"href\"]}\")"
   ]
  },
  {
   "cell_type": "code",
   "execution_count": 67,
   "id": "0294897d",
   "metadata": {},
   "outputs": [
    {
     "name": "stdout",
     "output_type": "stream",
     "text": [
      "ZTE: make='Blade A36', url='zte_blade_a36-13966.php'\n"
     ]
    }
   ],
   "source": [
    "# all phones - div class=\"makers\"\n",
    "phone_elm = phone_soup.find(\"div\", attrs={\"class\": \"makers\"}).find_all(\"li\")\n",
    "\n",
    "for model_elm in phone_elm:\n",
    "    make = model_elm.text\n",
    "    url = model_elm.find(\"a\").attrs[\"href\"]\n",
    "    print(f\"{brand}: {make=}, {url=}\")\n",
    "    break"
   ]
  },
  {
   "cell_type": "code",
   "execution_count": null,
   "id": "24d9428e",
   "metadata": {},
   "outputs": [
    {
     "name": "stdout",
     "output_type": "stream",
     "text": [
      "351\n"
     ]
    }
   ],
   "source": [
    "# number of requests if only brands are looked at\n",
    "import math\n",
    "\n",
    "num_pages = 1\n",
    "\n",
    "for k, v in all_brands.items():\n",
    "    num_pages += math.ceil(float(v[\"quantity\"])/50)\n",
    "\n",
    "print(num_pages)"
   ]
  },
  {
   "cell_type": "code",
   "execution_count": 71,
   "id": "919f730b",
   "metadata": {},
   "outputs": [
    {
     "name": "stdout",
     "output_type": "stream",
     "text": [
      "14341\n"
     ]
    }
   ],
   "source": [
    "# number of requests if brands and make data are extracted\n",
    "total_req = 1 # maker page\n",
    "\n",
    "for k, v in all_brands.items():\n",
    "    total_req += math.ceil(float(v[\"quantity\"])/50) # add visiting each brands pages\n",
    "    total_req += v[\"quantity\"] # add visiting each makes page\n",
    "\n",
    "print(total_req)\n"
   ]
  },
  {
   "cell_type": "markdown",
   "id": "84c87bee",
   "metadata": {},
   "source": [
    "# Plan\n",
    "1. Go to the main page (makers.php3)\n",
    "    - get all the brands and their urls\n",
    "2. For all the brands and urls\n",
    "    - go to page 1\n",
    "        - get the list of all pages\n",
    "    - get all makes from page and get their url\n",
    "    - traverse all the pages"
   ]
  }
 ],
 "metadata": {
  "kernelspec": {
   "display_name": "usedMarket",
   "language": "python",
   "name": "python3"
  },
  "language_info": {
   "codemirror_mode": {
    "name": "ipython",
    "version": 3
   },
   "file_extension": ".py",
   "mimetype": "text/x-python",
   "name": "python",
   "nbconvert_exporter": "python",
   "pygments_lexer": "ipython3",
   "version": "3.13.5"
  }
 },
 "nbformat": 4,
 "nbformat_minor": 5
}
