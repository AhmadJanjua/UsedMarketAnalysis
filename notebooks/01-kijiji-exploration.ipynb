{
 "cells": [
  {
   "cell_type": "code",
   "execution_count": 22,
   "id": "b2b6ec10",
   "metadata": {},
   "outputs": [],
   "source": [
    "import requests\n",
    "import json\n",
    "from bs4 import BeautifulSoup"
   ]
  },
  {
   "cell_type": "code",
   "execution_count": 23,
   "id": "22009930",
   "metadata": {},
   "outputs": [],
   "source": [
    "cell_url = 'https://www.kijiji.ca/b-cell-phone/alberta/c760l9003?for-sale-by=ownr&view=list'\n",
    "\n",
    "# mimics browser request - otherwise blocked\n",
    "header = {\n",
    "    \"User-Agent\":\n",
    "    \"Mozilla/5.0 (Windows NT 10.0; Win64; x64) \"\n",
    "    \"AppleWebKit/537.36 (KHTML, like Gecko) \"\n",
    "    \"Chrome/139.0.0.0 Safari/537.36\"\n",
    "}\n",
    "\n",
    "srch_response = requests.get(cell_url, headers=header)"
   ]
  },
  {
   "cell_type": "code",
   "execution_count": null,
   "id": "304f6697",
   "metadata": {},
   "outputs": [],
   "source": [
    "# INSPECT: results of search page\n",
    "srch_soup = BeautifulSoup(srch_response.text)\n",
    "print(srch_soup.prettify())"
   ]
  },
  {
   "cell_type": "markdown",
   "id": "9795fcc1",
   "metadata": {},
   "source": [
    "# Result of Inspection (Search Page)\n",
    "- some of the html content is dynamic and requires scripts to run (i.e. dates)\n",
    "- html element tags are random keys\n",
    "    - data-testid can be used instead\n",
    "- all the listings are in either top ads or search results\n",
    "- to get search results \n",
    "    - data-testid=\"srp-search-list\"\n",
    "- contains information about total number of results\n",
    "    - found in the first h2 element marked with data-testid=\"srp-results\""
   ]
  },
  {
   "cell_type": "code",
   "execution_count": null,
   "id": "057b9434",
   "metadata": {},
   "outputs": [],
   "source": [
    "# get the first (only) unordered list containing all the ads\n",
    "srch_listing_div = srch_soup.find_all(\"ul\", attrs={\"data-testid\":\"srp-search-list\"})[0]\n",
    "\n",
    "# parse the list\n",
    "srch_all_listings = srch_listing_div.find_all('li')\n",
    "\n",
    "# INSPECT: content of a listing\n",
    "print(srch_all_listings[0].prettify())"
   ]
  },
  {
   "cell_type": "markdown",
   "id": "0f2eb27f",
   "metadata": {},
   "source": [
    "# Result of inspection (Listing on Search Page)\n",
    "1. Id\n",
    "    - in section data-testid=\"listing-card\" -> attribute data-listingid\n",
    "2. Price\n",
    "    - data-testid=\"listing-price-container\" inside p block in div\n",
    "3. Title\n",
    "    - data-testid=\"listing-title\"\n",
    "4. Location\n",
    "    - data-testid=\"listing-location\"\n",
    "5. Description\n",
    "    - data-testid=\"listing-description\"\n",
    "    - partial description\n",
    "6. Link to posting\n",
    "    - data-testid=\"listing-link\"\n",
    "\n",
    "***Time is missing - this page cannot be used as a stand-alone***"
   ]
  },
  {
   "cell_type": "code",
   "execution_count": 28,
   "id": "f970bef3",
   "metadata": {},
   "outputs": [],
   "source": [
    "# retrieved url of a posting - get request\n",
    "listing_url = \"https://www.kijiji.ca/v-cell-phone/calgary/iphone-14/1722633209\"\n",
    "listing_response = requests.get(listing_url, headers=header)"
   ]
  },
  {
   "cell_type": "code",
   "execution_count": null,
   "id": "c04c6031",
   "metadata": {},
   "outputs": [],
   "source": [
    "# INSPECT: a post from the listing\n",
    "listing_soup = BeautifulSoup(listing_response.text)\n",
    "print(listing_soup.prettify())"
   ]
  },
  {
   "cell_type": "markdown",
   "id": "2084c07d",
   "metadata": {},
   "source": [
    "# Result of Inspection (Single Listing)\n",
    "- time is still produced using a script\n",
    "- the header contains a script call with all important data in Json format\n",
    "- located at \\<script type=\"application/ld+json\">\n",
    "    - @type: listing type (cell phones and general are 'Product')\n",
    "    - name: title of the ad\n",
    "    - description: entire description (not truncated)\n",
    "    - offers: contains information about the sale (nested dictionary)\n",
    "        - price\n",
    "        - priceCurrency\n",
    "        - validFrom\n",
    "        - validThrough\n",
    "        - availableAtOrFrom\n",
    "            - latitude\n",
    "            - longitude\n",
    "            - name: city name\n",
    "        - address\n",
    "            - streetAddress\n",
    "            - addressLocality\n",
    "            - addressCountry"
   ]
  },
  {
   "cell_type": "code",
   "execution_count": 31,
   "id": "7e5682df",
   "metadata": {},
   "outputs": [],
   "source": [
    "listing_txt = listing_soup.head.find_all_next(\"script\", attrs={'type':'application/ld+json'})[0].text\n",
    "listing_json = json.loads(listing_txt)"
   ]
  },
  {
   "cell_type": "code",
   "execution_count": 33,
   "id": "f5a8220a",
   "metadata": {},
   "outputs": [
    {
     "name": "stdout",
     "output_type": "stream",
     "text": [
      "Type\n",
      "-----------\n",
      "Product\n",
      "\n",
      "Title\n",
      "-----------\n",
      "iPhone 14\n",
      "\n",
      "Description\n",
      "-----------\n",
      "iPhone 14 128gb nothing wrong with it willing to negotiate\n",
      "\n",
      "Price\n",
      "-----------\n",
      "600\n",
      "\n",
      "Currency\n",
      "--------------\n",
      "CAD\n",
      "\n",
      "Posting Date\n",
      "-----------\n",
      "2025-08-11\n",
      "\n",
      "Address\n",
      "-----------\n",
      "Edgebrook Rise NW, Calgary, T3A 5J9\n",
      "\n",
      "City\n",
      "-----------\n",
      "Calgary\n",
      "\n",
      "Country\n",
      "-----------\n",
      "Canada\n",
      "\n",
      "Lat-Long\n",
      "-----------\n",
      "51.13, -114.12\n"
     ]
    }
   ],
   "source": [
    "print(\"Type\\n-----------\\n\" + listing_json[\"@type\"])\n",
    "print(\"\\nTitle\\n-----------\\n\" + listing_json['name'])\n",
    "print(\"\\nDescription\\n-----------\\n\" + listing_json['description'])\n",
    "print(\"\\nPrice\\n-----------\\n\" + listing_json['offers']['price'])\n",
    "print(\"\\nCurrency\\n--------------\\n\" + listing_json['offers']['priceCurrency'])\n",
    "print(\"\\nPosting Date\\n-----------\\n\" + listing_json['offers']['validFrom'])\n",
    "print(\"\\nAddress\\n-----------\\n\" + listing_json['offers']['availableAtOrFrom']['address']['streetAddress'])\n",
    "print(\"\\nCity\\n-----------\\n\" + listing_json['offers']['availableAtOrFrom']['address']['addressLocality'])\n",
    "print(\"\\nCountry\\n-----------\\n\" + listing_json['offers']['availableAtOrFrom']['address']['addressCountry'])\n",
    "print(\"\\nLat-Long\\n-----------\\n{}, {}\".format(\n",
    "    listing_json['offers']['availableAtOrFrom']['latitude'],\n",
    "    listing_json['offers']['availableAtOrFrom']['longitude']\n",
    "))"
   ]
  },
  {
   "cell_type": "markdown",
   "id": "80f0e440",
   "metadata": {},
   "source": [
    "# Motorcycles"
   ]
  },
  {
   "cell_type": "code",
   "execution_count": 34,
   "id": "6994ea15",
   "metadata": {},
   "outputs": [],
   "source": [
    "HEADER = {\n",
    "    \"User-Agent\":\n",
    "    \"Mozilla/5.0 (Windows NT 10.0; Win64; x64) \"\n",
    "    \"AppleWebKit/537.36 (KHTML, like Gecko) \"\n",
    "    \"Chrome/139.0.0.0 Safari/537.36\"\n",
    "}\n",
    "\n",
    "bike_page = requests.get(\n",
    "    \"https://www.kijiji.ca/v-sport-bikes/calgary/motorcycle-boots/1692095045\",\n",
    "    headers=HEADER\n",
    ")"
   ]
  },
  {
   "cell_type": "code",
   "execution_count": null,
   "id": "b36e1e5e",
   "metadata": {},
   "outputs": [],
   "source": [
    "bike_soup  = BeautifulSoup(bike_page.text)\n",
    "bike_json = json.loads(bike_soup.find_all(\"script\", attrs={\"type\": \"application/ld+json\"})[0].text)"
   ]
  },
  {
   "cell_type": "code",
   "execution_count": null,
   "id": "e54e9c98",
   "metadata": {},
   "outputs": [
    {
     "name": "stdout",
     "output_type": "stream",
     "text": [
      "bike_json[\"name\"]='Motorcycle Boots'\n",
      "bike_json[\"description\"]='Sidi Leather Motorcycle Boots Leather Short Velcro closure.\\r\\nWaterproof \\r\\nSize 44 (or mens size 10) \\r\\n$190'\n",
      "bike_json[\"offers\"][\"price\"]='190'\n",
      "bike_json[\"offers\"][\"priceCurrency\"]='CAD'\n",
      "bike_json[\"offers\"][\"validFrom\"]='2024-04-29'\n",
      "bike_json[\"offers\"][\"validThrough\"]='2024-05-29'\n",
      "bike_json[\"offers\"][\"availableAtOrFrom\"][\"latitude\"]=51.13\n",
      "bike_json[\"offers\"][\"availableAtOrFrom\"][\"longitude\"]=-114.24\n",
      "bike_json[\"offers\"][\"availableAtOrFrom\"][\"address\"][\"streetAddress\"]='Calgary, AB T3L 2A5'\n",
      "bike_json[\"offers\"][\"availableAtOrFrom\"][\"address\"][\"addressLocality\"]='Calgary'\n",
      "bike_json[\"offers\"][\"availableAtOrFrom\"][\"address\"][\"addressCountry\"]='Canada'\n",
      "bike_json[\"offers\"][\"availableAtOrFrom\"][\"address\"][\"addressCountry\"]='Canada'\n",
      "------\n",
      "bike_json[\"@type\"]='Motorcycle'\n",
      "bike_json[\"brand\"][\"name\"]='Suzuki'\n",
      "bike_json[\"mileageFromOdometer\"][\"value\"]='1'\n",
      "bike_json[\"mileageFromOdometer\"][\"unitCode\"]='KMT'\n",
      "bike_json[\"model\"]='GSX-R'\n",
      "bike_json[\"vehicleModelDate\"]='2009'\n"
     ]
    }
   ],
   "source": [
    "# --- Generic Product info\n",
    "print(f\"{bike_json[\"name\"]=}\")\n",
    "print(f\"{bike_json[\"description\"]=}\")\n",
    "print(f\"{bike_json[\"offers\"][\"price\"]=}\")\n",
    "print(f\"{bike_json[\"offers\"][\"priceCurrency\"]=}\")\n",
    "print(f\"{bike_json[\"offers\"][\"validFrom\"]=}\")\n",
    "print(f\"{bike_json[\"offers\"][\"validThrough\"]=}\")\n",
    "print(f\"{bike_json[\"offers\"][\"availableAtOrFrom\"][\"latitude\"]=}\")\n",
    "print(f\"{bike_json[\"offers\"][\"availableAtOrFrom\"][\"longitude\"]=}\")\n",
    "print(f\"{bike_json[\"offers\"][\"availableAtOrFrom\"][\"address\"][\"streetAddress\"]=}\")\n",
    "print(f\"{bike_json[\"offers\"][\"availableAtOrFrom\"][\"address\"][\"addressLocality\"]=}\")\n",
    "print(f\"{bike_json[\"offers\"][\"availableAtOrFrom\"][\"address\"][\"addressCountry\"]=}\")\n",
    "print(\"------\")\n",
    "# --- Bike Specific\n",
    "print(f\"{bike_json[\"@type\"]=}\")\n",
    "print(f\"{bike_json[\"brand\"][\"name\"]=}\")\n",
    "print(f\"{bike_json[\"mileageFromOdometer\"][\"value\"]=}\")\n",
    "print(f\"{bike_json[\"mileageFromOdometer\"][\"unitCode\"]=}\")\n",
    "print(f\"{bike_json[\"model\"]=}\")\n",
    "print(f\"{bike_json[\"vehicleModelDate\"]=}\")"
   ]
  },
  {
   "cell_type": "markdown",
   "id": "f2467f11",
   "metadata": {},
   "source": [
    "# Plan\n",
    "For now, I am not concern with updates to old listings.\n",
    "- NOTE: to do this just inspect etag on existing listing\n",
    "\n",
    "## Initial Scraper\n",
    "- this will go through all the listings in a search url and gather all the data and save to json file"
   ]
  }
 ],
 "metadata": {
  "kernelspec": {
   "display_name": "usedMarket",
   "language": "python",
   "name": "python3"
  },
  "language_info": {
   "codemirror_mode": {
    "name": "ipython",
    "version": 3
   },
   "file_extension": ".py",
   "mimetype": "text/x-python",
   "name": "python",
   "nbconvert_exporter": "python",
   "pygments_lexer": "ipython3",
   "version": "3.13.5"
  }
 },
 "nbformat": 4,
 "nbformat_minor": 5
}
