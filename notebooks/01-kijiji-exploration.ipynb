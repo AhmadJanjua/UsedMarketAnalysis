{
 "cells": [
  {
   "cell_type": "code",
   "execution_count": 58,
   "id": "b2b6ec10",
   "metadata": {},
   "outputs": [],
   "source": [
    "import requests\n",
    "import json\n",
    "from bs4 import BeautifulSoup"
   ]
  },
  {
   "cell_type": "code",
   "execution_count": 59,
   "id": "22009930",
   "metadata": {},
   "outputs": [],
   "source": [
    "srch_url = 'https://www.kijiji.ca/b-cell-phone/alberta/c760l9003?for-sale-by=ownr&view=list'\n",
    "\n",
    "# mimics browser request - otherwise blocked\n",
    "header = {\n",
    "    \"User-Agent\":\n",
    "    \"Mozilla/5.0 (Windows NT 10.0; Win64; x64) \"\n",
    "    \"AppleWebKit/537.36 (KHTML, like Gecko) \"\n",
    "    \"Chrome/139.0.0.0 Safari/537.36\"\n",
    "}\n",
    "\n",
    "srch_response = requests.get(srch_url, headers=header)"
   ]
  },
  {
   "cell_type": "code",
   "execution_count": null,
   "id": "304f6697",
   "metadata": {},
   "outputs": [],
   "source": [
    "# INSPECT: results of search page\n",
    "srch_soup = BeautifulSoup(srch_response.text)\n",
    "print(srch_soup.prettify())"
   ]
  },
  {
   "cell_type": "markdown",
   "id": "9795fcc1",
   "metadata": {},
   "source": [
    "# Result of Inspection (Search Page)\n",
    "- some of the html content is dynamic and requires scripts to run (i.e. dates)\n",
    "- html element tags are random keys\n",
    "    - data-testid can be used instead\n",
    "- all the listings are in either top ads or search results\n",
    "- to get search results \n",
    "    - data-testid=\"srp-search-list\"\n",
    "- contains information about total number of results\n",
    "    - found in the first h2 element marked with data-testid=\"srp-results\""
   ]
  },
  {
   "cell_type": "code",
   "execution_count": null,
   "id": "057b9434",
   "metadata": {},
   "outputs": [],
   "source": [
    "# get the first (only) unordered list containing all the ads\n",
    "srch_listing_div = srch_soup.find_all(\"ul\", attrs={\"data-testid\":\"srp-search-list\"})[0]\n",
    "\n",
    "# parse the list\n",
    "srch_all_listings = srch_listing_div.find_all('li')\n",
    "\n",
    "# INSPECT: content of a listing\n",
    "print(srch_all_listings[0].prettify())"
   ]
  },
  {
   "cell_type": "markdown",
   "id": "0f2eb27f",
   "metadata": {},
   "source": [
    "# Result of inspection (Listing on Search Page)\n",
    "1. Id\n",
    "    - in section data-testid=\"listing-card\" -> attribute data-listingid\n",
    "2. Price\n",
    "    - data-testid=\"listing-price-container\" inside p block in div\n",
    "3. Title\n",
    "    - data-testid=\"listing-title\"\n",
    "4. Location\n",
    "    - data-testid=\"listing-location\"\n",
    "5. Description\n",
    "    - data-testid=\"listing-description\"\n",
    "    - partial description\n",
    "6. Link to posting\n",
    "    - data-testid=\"listing-link\"\n",
    "\n",
    "***Time is missing - this page cannot be used as a stand-alone***"
   ]
  },
  {
   "cell_type": "code",
   "execution_count": 62,
   "id": "f970bef3",
   "metadata": {},
   "outputs": [],
   "source": [
    "# retrieved url of a posting - get request\n",
    "listing_url = \"https://www.kijiji.ca/v-cell-phone/calgary/galaxy-s22-ultra-128gb-unlocked/1722534139\"\n",
    "listing_response = requests.get(listing_url, headers=header)"
   ]
  },
  {
   "cell_type": "code",
   "execution_count": null,
   "id": "c04c6031",
   "metadata": {},
   "outputs": [],
   "source": [
    "# INSPECT: a post from the listing\n",
    "listing_soup = BeautifulSoup(listing_response.text)\n",
    "print(listing_soup.prettify())"
   ]
  },
  {
   "cell_type": "markdown",
   "id": "2084c07d",
   "metadata": {},
   "source": [
    "# Result of Inspection (Single Listing)\n",
    "- time is still produced using a script\n",
    "- the header contains a script call with all important data in Json format\n",
    "- located at \\<script type=\"application/ld+json\">\n",
    "    - name: title of the ad\n",
    "    - description: entire description (not truncated)\n",
    "    - offers: contains information about the sale (nested dictionary)\n",
    "        - price\n",
    "        - priceCurrency\n",
    "        - validFrom\n",
    "        - validThrough\n",
    "        - availableAtOrFrom\n",
    "            - latitude\n",
    "            - longitude\n",
    "            - name: city name\n",
    "        - address\n",
    "            - streetAddress\n",
    "            - addressLocality\n",
    "            - addressCountry"
   ]
  },
  {
   "cell_type": "code",
   "execution_count": 64,
   "id": "7e5682df",
   "metadata": {},
   "outputs": [],
   "source": [
    "listing_txt = listing_soup.head.find_all_next(\"script\", attrs={'type':'application/ld+json'})[0].text\n",
    "listing_json = json.loads(listing_txt)"
   ]
  },
  {
   "cell_type": "code",
   "execution_count": 65,
   "id": "f5a8220a",
   "metadata": {},
   "outputs": [
    {
     "name": "stdout",
     "output_type": "stream",
     "text": [
      "Title\n",
      "-----------\n",
      "Galaxy S22 Ultra, 128GB, Unlocked.\n",
      "\n",
      "Description\n",
      "-----------\n",
      "Samsung Galaxy S22 Ultra, Burgundy, 128GB, Unlocked.\n",
      "Screen protector and case included.\n",
      "\n",
      "We Sell many iPhones and Androids at the reasonable price in the store \n",
      "(PLEASE, Check 'View poster's other ads' on my phone number)\n",
      "All phones for sale have a brand new Tempered Glass Screen Protector\n",
      "\n",
      "A. Can you check the inside if there was water damage or not? \n",
      "B. What about the IMEI if it is blacklisted or not? \n",
      "C. Some people sell a phone which still has a contract, and they will not pay the bill for a while \n",
      "     --- the phone must be blacklisted! \n",
      "D. Someone reports the phone to the insurance company as a stolen or lost to take the compensation after selling. \n",
      "     --- the phone was working when you buy this, but that will be black listed after that!\n",
      "Don't worry about all of these things! \n",
      "We have already checked all of those, and guarantee it! \n",
      "We give you our store warranty also!\n",
      "E. All phones we sell are not refurbished which are made with many parts from other phones' parts. They are the brand new or preowned which are guaranteed by a professional technician.\n",
      "\n",
      "Any question, pls call or text me (7days/24hours available)\n",
      "\n",
      "SpeedJOBS LTD.\n",
      "[Hours of Operation] \n",
      "Mon ~ Sat : 10AM - 7PM \n",
      "Sun : Appointments only.\n",
      "\n",
      "[Address] \n",
      "Glenmore Landing Shopping Mall \n",
      "1600 90Ave, SW (Unit# A101: Just beside SUBWAY sandwich shop in Office Centre Building A)\n",
      "\n",
      "[Contact ]\n",
      "(587) 834 1888(cell) / speedjobsrepairs@gmail.com\n",
      "\n",
      "Price\n",
      "-----------\n",
      "570\n",
      "\n",
      "Currency\n",
      "--------------\n",
      "CAD\n",
      "\n",
      "Posting Date\n",
      "-----------\n",
      "2025-08-10\n",
      "\n",
      "Address\n",
      "-----------\n",
      "Calgary, AB T2V 5A8\n",
      "\n",
      "City\n",
      "-----------\n",
      "Calgary\n",
      "\n",
      "Country\n",
      "-----------\n",
      "Canada\n",
      "\n",
      "Lat-Long\n",
      "-----------\n",
      "50.97493, -114.09837\n"
     ]
    }
   ],
   "source": [
    "print(\"Title\\n-----------\\n\" + listing_json['name'])\n",
    "print(\"\\nDescription\\n-----------\\n\" + listing_json['description'])\n",
    "print(\"\\nPrice\\n-----------\\n\" + listing_json['offers']['price'])\n",
    "print(\"\\nCurrency\\n--------------\\n\" + listing_json['offers']['priceCurrency'])\n",
    "print(\"\\nPosting Date\\n-----------\\n\" + listing_json['offers']['validFrom'])\n",
    "print(\"\\nAddress\\n-----------\\n\" + listing_json['offers']['availableAtOrFrom']['address']['streetAddress'])\n",
    "print(\"\\nCity\\n-----------\\n\" + listing_json['offers']['availableAtOrFrom']['address']['addressLocality'])\n",
    "print(\"\\nCountry\\n-----------\\n\" + listing_json['offers']['availableAtOrFrom']['address']['addressCountry'])\n",
    "print(\"\\nLat-Long\\n-----------\\n{}, {}\".format(\n",
    "    listing_json['offers']['availableAtOrFrom']['latitude'],\n",
    "    listing_json['offers']['availableAtOrFrom']['longitude']\n",
    "))"
   ]
  },
  {
   "cell_type": "markdown",
   "id": "a4aa2b89",
   "metadata": {},
   "source": [
    "# Plan\n",
    "For now, I am not concern with updates to old listings.\n",
    "- NOTE: to do this just inspect etag on existing listing\n",
    "\n",
    "## Initial Scraper\n",
    "- this will go through all the listings in a search url and gather all the data\n",
    "\n",
    "## Update Scraper\n",
    "- this will run once a day and scrape until the listings posted on that day are depleted"
   ]
  }
 ],
 "metadata": {
  "kernelspec": {
   "display_name": "usedMarket",
   "language": "python",
   "name": "python3"
  },
  "language_info": {
   "codemirror_mode": {
    "name": "ipython",
    "version": 3
   },
   "file_extension": ".py",
   "mimetype": "text/x-python",
   "name": "python",
   "nbconvert_exporter": "python",
   "pygments_lexer": "ipython3",
   "version": "3.13.5"
  }
 },
 "nbformat": 4,
 "nbformat_minor": 5
}
