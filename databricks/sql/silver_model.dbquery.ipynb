{
 "cells": [
  {
   "cell_type": "code",
   "execution_count": 0,
   "metadata": {
    "application/vnd.databricks.v1+cell": {
     "cellMetadata": {
      "byteLimit": 10485760,
      "rowLimit": 64000
     },
     "inputWidgets": {},
     "nuid": "0d3d6810-2500-4650-b24f-9e6faa5e0a44",
     "showTitle": false,
     "tableResultSettingsMap": {},
     "title": ""
    }
   },
   "outputs": [],
   "source": [
    "CREATE SCHEMA IF NOT EXISTS webscraper.silver;\n",
    "\n",
    "--- Tables\n",
    "CREATE TABLE IF NOT EXISTS webscraper.silver.cell_catalog (\n",
    "  brand STRING NOT NULL,\n",
    "  model STRING NOT NULL,\n",
    "  url STRING,\n",
    "  PRIMARY KEY (brand, model)\n",
    ") USING DELTA;\n",
    "\n",
    "CREATE TABLE IF NOT EXISTS webscraper.silver.cell_models (\n",
    "  brand STRING NOT NULL,\n",
    "  model STRING NOT NULL,\n",
    "  pattern STRING NOT NULL,\n",
    "  length INT NOT NULL,\n",
    "  url STRING,\n",
    "  PRIMARY KEY (brand, model)\n",
    ") USING DELTA;\n",
    "\n",
    "CREATE TABLE IF NOT EXISTS webscraper.silver.cell_brands (\n",
    "  brand STRING NOT NULL,\n",
    "  pattern STRING NOT NULL,\n",
    "  PRIMARY KEY (brand)\n",
    ") USING DELTA;\n",
    "\n",
    "CREATE TABLE IF NOT EXISTS webscraper.silver.cell_listings (\n",
    "  id BIGINT NOT NULL,\n",
    "  category STRING,\n",
    "  info STRUCT<title STRING, description STRING, url STRING>,\n",
    "  location STRUCT<\n",
    "    country STRING,\n",
    "    city STRING,\n",
    "    address STRING,\n",
    "    coordinate STRUCT<lat DOUBLE, lon DOUBLE>\n",
    "  >,\n",
    "  cost STRUCT<currency STRING, price DOUBLE>,\n",
    "  date DATE,\n",
    "  processed_at TIMESTAMP, \n",
    "  PRIMARY KEY (id)\n",
    ") USING DELTA;\n",
    "\n",
    "CREATE TABLE IF NOT EXISTS webscraper.silver.motorcycle_listings (\n",
    "  id BIGINT NOT NULL,\n",
    "  category STRING,\n",
    "  info STRUCT<title STRING, description STRING, url STRING>,\n",
    "  location STRUCT<\n",
    "    country STRING,\n",
    "    city STRING,\n",
    "    address STRING,\n",
    "    coordinate STRUCT<lat DOUBLE, lon DOUBLE>\n",
    "  >,\n",
    "  cost STRUCT<currency STRING, price DOUBLE>,\n",
    "  date DATE,\n",
    "  model STRUCT<brand STRING, name STRING, year INT>,\n",
    "  odometer STRUCT<unit STRING, value BIGINT>,\n",
    "  processed_at TIMESTAMP, \n",
    "  PRIMARY KEY (id)\n",
    ") USING DELTA;\n"
   ]
  }
 ],
 "metadata": {
  "application/vnd.databricks.v1+notebook": {
   "computePreferences": null,
   "dashboards": [],
   "environmentMetadata": null,
   "inputWidgetPreferences": null,
   "language": "sql",
   "notebookMetadata": {
    "pythonIndentUnit": 4,
    "sqlQueryOptions": {
     "applyAutoLimit": false,
     "catalog": "webscraper",
     "schema": "default"
    }
   },
   "notebookName": "silver_model.dbquery.ipynb",
   "widgets": {}
  },
  "language_info": {
   "name": "sql"
  }
 },
 "nbformat": 4,
 "nbformat_minor": 0
}
