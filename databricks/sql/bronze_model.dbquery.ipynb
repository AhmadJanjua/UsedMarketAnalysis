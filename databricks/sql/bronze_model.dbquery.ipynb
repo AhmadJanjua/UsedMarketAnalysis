{
 "cells": [
  {
   "cell_type": "code",
   "execution_count": 0,
   "metadata": {
    "application/vnd.databricks.v1+cell": {
     "cellMetadata": {
      "byteLimit": 10485760,
      "rowLimit": 1000
     },
     "inputWidgets": {},
     "nuid": "0d3d6810-2500-4650-b24f-9e6faa5e0a44",
     "showTitle": false,
     "tableResultSettingsMap": {},
     "title": ""
    }
   },
   "outputs": [],
   "source": [
    "--- Create the Bronze schema\n",
    "CREATE SCHEMA IF NOT EXISTS webscraper.bronze;\n",
    "\n",
    "--- Will store raw data so create the JSON storage\n",
    "CREATE VOLUME IF NOT EXISTS webscraper.bronze.cellphone_raw;\n",
    "CREATE VOLUME IF NOT EXISTS webscraper.bronze.motorcycle_raw;\n",
    "\n",
    "--- Tables\n",
    "CREATE TABLE IF NOT EXISTS webscraper.bronze.cellphone_gsm (\n",
    "  brand STRING,\n",
    "  model STRING,\n",
    "  url STRING,\n",
    "  PRIMARY KEY (brand, model)\n",
    ") USING DELTA;\n",
    "\n",
    "CREATE TABLE IF NOT EXISTS webscraper.bronze.cellphone_kijiji (\n",
    "  url STRING,\n",
    "  id INTEGER,\n",
    "  title STRING,\n",
    "  desc STRING,\n",
    "  price FLOAT,\n",
    "  currency STRING,\n",
    "  date DATE,\n",
    "  address STRING,\n",
    "  city STRING,\n",
    "  country STRING,\n",
    "  latitude FLOAT,\n",
    "  longitude FLOAT,\n",
    "  collected_at TIMESTAMP,\n",
    "  PRIMARY KEY (url)\n",
    ") using DELTA;\n",
    "\n",
    "CREATE TABLE IF NOT EXISTS webscraper.bronze.motorcycle_kijiji (\n",
    "  url STRING,\n",
    "  id INTEGER,\n",
    "  title STRING,\n",
    "  desc STRING,\n",
    "  price FLOAT,\n",
    "  currency STRING,\n",
    "  date DATE,\n",
    "  address STRING,\n",
    "  city STRING,\n",
    "  country STRING,\n",
    "  latitude FLOAT,\n",
    "  longitude FLOAT,\n",
    "  brand STRING,\n",
    "  model STRING,\n",
    "  year INTEGER,\n",
    "  odometer INTEGER,\n",
    "  odometer_unit STRING,\n",
    "  collected_at TIMESTAMP,\n",
    "  PRIMARY KEY (url)\n",
    ") using DELTA;\n"
   ]
  }
 ],
 "metadata": {
  "application/vnd.databricks.v1+notebook": {
   "computePreferences": null,
   "dashboards": [],
   "environmentMetadata": null,
   "inputWidgetPreferences": null,
   "language": "sql",
   "notebookMetadata": {
    "sqlQueryOptions": {
     "applyAutoLimit": true,
     "catalog": "webscraper",
     "schema": "default"
    }
   },
   "notebookName": "bronze_model.dbquery.ipynb",
   "widgets": {}
  },
  "language_info": {
   "name": "sql"
  }
 },
 "nbformat": 4,
 "nbformat_minor": 0
}
