{
 "cells": [
  {
   "cell_type": "code",
   "execution_count": 0,
   "metadata": {
    "application/vnd.databricks.v1+cell": {
     "cellMetadata": {},
     "inputWidgets": {},
     "nuid": "0d3d6810-2500-4650-b24f-9e6faa5e0a44",
     "showTitle": false,
     "tableResultSettingsMap": {},
     "title": ""
    }
   },
   "outputs": [],
   "source": [
    "--- Create the Bronze schema\n",
    "CREATE SCHEMA IF NOT EXISTS webscraper.bronze;\n",
    "\n",
    "--- Will store raw data so create the JSON storage\n",
    "CREATE VOLUME IF NOT EXISTS webscraper.bronze.cellphone_raw;\n",
    "CREATE VOLUME IF NOT EXISTS webscraper.bronze.motorcycle_raw;\n"
   ]
  }
 ],
 "metadata": {
  "application/vnd.databricks.v1+notebook": {
   "computePreferences": null,
   "dashboards": [],
   "environmentMetadata": null,
   "inputWidgetPreferences": null,
   "language": "sql",
   "notebookMetadata": {
    "sqlQueryOptions": {
     "applyAutoLimit": true,
     "catalog": "webscraper",
     "schema": "default"
    }
   },
   "notebookName": "bronze_model.dbquery.ipynb",
   "widgets": {}
  },
  "language_info": {
   "name": "sql"
  }
 },
 "nbformat": 4,
 "nbformat_minor": 0
}
