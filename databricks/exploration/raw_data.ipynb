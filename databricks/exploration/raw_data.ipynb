{
 "cells": [
  {
   "cell_type": "markdown",
   "metadata": {
    "application/vnd.databricks.v1+cell": {
     "cellMetadata": {
      "byteLimit": 2048000,
      "rowLimit": 10000
     },
     "inputWidgets": {},
     "nuid": "24065a92-6b00-4e78-9513-b3e742d469f1",
     "showTitle": false,
     "tableResultSettingsMap": {},
     "title": ""
    }
   },
   "source": [
    "# Directories"
   ]
  },
  {
   "cell_type": "code",
   "execution_count": 0,
   "metadata": {
    "application/vnd.databricks.v1+cell": {
     "cellMetadata": {
      "byteLimit": 2048000,
      "rowLimit": 10000
     },
     "inputWidgets": {},
     "nuid": "8a9f51f8-dd63-4e64-8fc4-cb8e9284c0ec",
     "showTitle": false,
     "tableResultSettingsMap": {},
     "title": ""
    }
   },
   "outputs": [],
   "source": [
    "BRONZE_VOL = \"/Volumes/webscraper/bronze/\"\n",
    "GSMARENA_LOC = BRONZE_VOL + \"cellphone_raw/GSMArena/\"\n",
    "KIJIJI_CELL_LOC = BRONZE_VOL + \"cellphone_raw/Kijiji/\"\n",
    "KIJIJI_MOTO_LOC = BRONZE_VOL + \"motorcycle_raw/Kijiji/\""
   ]
  },
  {
   "cell_type": "code",
   "execution_count": 0,
   "metadata": {
    "application/vnd.databricks.v1+cell": {
     "cellMetadata": {
      "byteLimit": 2048000,
      "rowLimit": 10000
     },
     "inputWidgets": {},
     "nuid": "0943f2a1-7fb4-4db9-a998-2d89a94fc22a",
     "showTitle": false,
     "tableResultSettingsMap": {},
     "title": ""
    }
   },
   "outputs": [],
   "source": [
    "display(dbutils.fs.ls(GSMARENA_LOC))\n",
    "display(dbutils.fs.ls(KIJIJI_CELL_LOC))\n",
    "display(dbutils.fs.ls(KIJIJI_MOTO_LOC))"
   ]
  },
  {
   "cell_type": "markdown",
   "metadata": {
    "application/vnd.databricks.v1+cell": {
     "cellMetadata": {
      "byteLimit": 2048000,
      "rowLimit": 10000
     },
     "inputWidgets": {},
     "nuid": "b7bb9a18-eea2-40d7-a8a2-570541e34de9",
     "showTitle": false,
     "tableResultSettingsMap": {},
     "title": ""
    }
   },
   "source": [
    "# Raw Files"
   ]
  },
  {
   "cell_type": "code",
   "execution_count": 0,
   "metadata": {
    "application/vnd.databricks.v1+cell": {
     "cellMetadata": {
      "byteLimit": 2048000,
      "rowLimit": 10000
     },
     "inputWidgets": {},
     "nuid": "3baa50a9-c247-499a-b592-187d1626c8a9",
     "showTitle": false,
     "tableResultSettingsMap": {},
     "title": ""
    }
   },
   "outputs": [],
   "source": [
    "gsm_df = spark.read.option(\"multiline\", \"true\").json(GSMARENA_LOC + \"*.json\")\n",
    "brand_df = spark.read.option(\"header\", True).csv(GSMARENA_LOC + \"cell_brand.csv\")\n",
    "model_df = spark.read.option(\"header\", True).csv(GSMARENA_LOC + \"cell_models.csv\")\n",
    "display(gsm_df.limit(5))\n",
    "display(brand_df.limit(5))\n",
    "display(model_df.limit(5))"
   ]
  },
  {
   "cell_type": "code",
   "execution_count": 0,
   "metadata": {
    "application/vnd.databricks.v1+cell": {
     "cellMetadata": {
      "byteLimit": 2048000,
      "rowLimit": 10000
     },
     "inputWidgets": {},
     "nuid": "5bbe0e92-45f9-46f0-9ec7-cf6b492b8aee",
     "showTitle": false,
     "tableResultSettingsMap": {},
     "title": ""
    }
   },
   "outputs": [],
   "source": [
    "cell_df = spark.read.option(\"multiline\", \"true\").json(KIJIJI_CELL_LOC + \"*.json\")\n",
    "display(cell_df.limit(5))"
   ]
  },
  {
   "cell_type": "code",
   "execution_count": 0,
   "metadata": {
    "application/vnd.databricks.v1+cell": {
     "cellMetadata": {
      "byteLimit": 2048000,
      "rowLimit": 10000
     },
     "inputWidgets": {},
     "nuid": "5a40ed94-ce0f-4a85-b6c6-6d3bedcaed91",
     "showTitle": false,
     "tableResultSettingsMap": {},
     "title": ""
    }
   },
   "outputs": [],
   "source": [
    "moto_df = spark.read.option(\"multiline\", \"true\").json(KIJIJI_MOTO_LOC + \"*.json\")\n",
    "display(moto_df.limit(5))"
   ]
  },
  {
   "cell_type": "markdown",
   "metadata": {
    "application/vnd.databricks.v1+cell": {
     "cellMetadata": {
      "byteLimit": 2048000,
      "rowLimit": 10000
     },
     "inputWidgets": {},
     "nuid": "d6804607-aacc-45b2-b76f-2b066fa7ccff",
     "showTitle": false,
     "tableResultSettingsMap": {},
     "title": ""
    }
   },
   "source": [
    "# Cellphone Dataset"
   ]
  },
  {
   "cell_type": "code",
   "execution_count": 0,
   "metadata": {
    "application/vnd.databricks.v1+cell": {
     "cellMetadata": {
      "byteLimit": 2048000,
      "rowLimit": 10000
     },
     "inputWidgets": {},
     "nuid": "0fc91b33-b9f6-47cd-b9c2-972fbfcad1d9",
     "showTitle": false,
     "tableResultSettingsMap": {},
     "title": ""
    }
   },
   "outputs": [],
   "source": [
    "from pyspark.sql import functions as F\n",
    "\n",
    "def normalize_text(col):\n",
    "    return F.trim(\n",
    "        F.regexp_replace(\n",
    "            F.regexp_replace(\n",
    "                F.regexp_replace(\n",
    "                    F.split(F.lower(col), F.lit(\"tag\"), 2).getItem(0),\n",
    "                    r\"\\+\", \" plus\"),\n",
    "                r\"[^a-z0-9]\", \" \"),\n",
    "            r\"\\s+\", \" \"\n",
    "        )\n",
    "    )"
   ]
  },
  {
   "cell_type": "markdown",
   "metadata": {
    "application/vnd.databricks.v1+cell": {
     "cellMetadata": {
      "byteLimit": 2048000,
      "rowLimit": 10000
     },
     "inputWidgets": {},
     "nuid": "7d1365f5-eca4-472c-bbf1-3319e49660a0",
     "showTitle": false,
     "tableResultSettingsMap": {},
     "title": ""
    }
   },
   "source": [
    "### Preprocess"
   ]
  },
  {
   "cell_type": "code",
   "execution_count": 0,
   "metadata": {
    "application/vnd.databricks.v1+cell": {
     "cellMetadata": {
      "byteLimit": 2048000,
      "rowLimit": 10000
     },
     "inputWidgets": {},
     "nuid": "8c7c3fe3-5f99-4739-9182-a88daf1ef6dd",
     "showTitle": false,
     "tableResultSettingsMap": {},
     "title": ""
    }
   },
   "outputs": [],
   "source": [
    "cell_cpy = cell_df\n",
    "cell_cpy = cell_cpy.fillna({'Category': 'Product'})\n",
    "cell_cpy = cell_cpy.withColumn(\n",
    "    \"text_norm\",\n",
    "    normalize_text(\n",
    "        F.concat_ws(\" \", \"title\", \"description\")\n",
    "    )\n",
    ")\n",
    "cell_cpy = cell_cpy.dropDuplicates([\"ID\"])\n",
    "\n",
    "display(cell_cpy.describe())"
   ]
  },
  {
   "cell_type": "markdown",
   "metadata": {
    "application/vnd.databricks.v1+cell": {
     "cellMetadata": {
      "byteLimit": 2048000,
      "rowLimit": 10000
     },
     "inputWidgets": {},
     "nuid": "df5b1d3b-d810-4624-b563-390e47a52ebf",
     "showTitle": false,
     "tableResultSettingsMap": {},
     "title": ""
    }
   },
   "source": [
    "### Storage"
   ]
  },
  {
   "cell_type": "code",
   "execution_count": 0,
   "metadata": {
    "application/vnd.databricks.v1+cell": {
     "cellMetadata": {
      "byteLimit": 2048000,
      "rowLimit": 10000
     },
     "inputWidgets": {},
     "nuid": "5363a51d-6a0b-4874-b1ca-8044f04fad4b",
     "showTitle": false,
     "tableResultSettingsMap": {
      "0": {
       "dataGridStateBlob": "{\"version\":1,\"tableState\":{\"columnPinning\":{\"left\":[\"#row_number#\"],\"right\":[]},\"columnSizing\":{},\"columnVisibility\":{}},\"settings\":{\"columns\":{}},\"syncTimestamp\":1756850132886}",
       "filterBlob": "{\"version\":1,\"filterGroups\":[],\"syncTimestamp\":1756845820462}",
       "queryPlanFiltersBlob": "[]",
       "tableResultIndex": 0
      }
     },
     "title": ""
    }
   },
   "outputs": [],
   "source": [
    "# 1. create patterns with varying level of priority\n",
    "storage_groups = spark.createDataFrame([\n",
    "    # most common phone storage (128-512)\n",
    "    {\"storage_unit\": \"GB\",\"pattern\": r\"\\b(?!0{3})(\\d{3})\\s*(gb|gigs|gib)\\b\", \"priority\": 1},\n",
    "    # another common storage (32,64)\n",
    "    {\"storage_unit\": \"GB\",\"pattern\": r\"\\b(?!0{2})(32|64)\\s*(gb|gigs|gib)\\b\", \"priority\": 2},\n",
    "    # common, but also used for expandable storage\n",
    "    {\"storage_unit\": \"TB\",\"pattern\": r\"\\b([1-8])\\s*(tb)\\b\", \"priority\": 3},\n",
    "    {\"storage_unit\": \"GB\",\"pattern\": r\"\\b(?!0{4})(\\d{4})\\s*(gb|gigs|gib)\\b\", \"priority\": 4},\n",
    "    # French abbreviation\n",
    "    {\"storage_unit\": \"GB\",\"pattern\": r\"\\b(?!0{3,4})(\\d{3,4})\\s*(go)\\b\", \"priority\": 5},\n",
    "    # larger numbers and weak abbreviation\n",
    "    {\"storage_unit\": \"GB\",\"pattern\": r\"\\b(?!0{3,4})(128|256|512|1000|1024|2000|2048)\\s*(g)\\b\", \"priority\": 6},\n",
    "    # usually storage but can be RAM\n",
    "    {\"storage_unit\": \"GB\",\"pattern\": r\"\\b(?!0{2})(\\d{2})\\s*(gb|gigs|gib)\\b\", \"priority\": 7},\n",
    "    {\"storage_unit\": \"GB\",\"pattern\": r\"\\b(?!0{2})(\\d{2})\\s*(go)\\b\", \"priority\": 8},\n",
    "    # generally RAM\n",
    "    {\"storage_unit\": \"GB\",\"pattern\": r\"\\b([1-9])\\s*(gb|gigs|gib)\\b\", \"priority\": 9},\n",
    "    {\"storage_unit\": \"GB\",\"pattern\": r\"\\b([1-9])\\s*(go)\\b\", \"priority\": 10},\n",
    "    # weakest match\n",
    "    {\"storage_unit\": \"GB\",\"pattern\": r\"\\b(?!0{2,4})(\\d{2,4})\\s*(g)\\b\", \"priority\": 11},\n",
    "    {\"storage_unit\": \"GB\",\"pattern\": r\"\\b([126789])\\s*(g)\\b\", \"priority\": 12},\n",
    "])\n",
    "\n",
    "# 2. Create a table with each pattern and entry\n",
    "cell_storage_df = cell_cpy\\\n",
    "    .select(\"ID\", \"text_norm\")\\\n",
    "    .crossJoin(storage_groups)\n",
    "# check if the pattern matches\n",
    "cell_storage_df = cell_storage_df\\\n",
    "    .withColumn(\n",
    "        \"storage_amt\",\n",
    "        F.regexp_extract(\"text_norm\", F.col(\"pattern\"), 1)\n",
    "    )\n",
    "# filter out non-matches\n",
    "cell_storage_df = cell_storage_df.filter(F.col(\"storage_amt\") != \"\")\n",
    "\n",
    "# 3. Find highest priority for each ID\n",
    "storage_priority = cell_storage_df\\\n",
    "    .groupBy(\"ID\")\\\n",
    "    .agg(F.min(\"priority\").alias(\"min\"))\n",
    "# join priority and filter\n",
    "cell_storage_df = cell_storage_df.join(storage_priority, \"ID\", \"inner\")\n",
    "cell_storage_df = cell_storage_df.filter(F.col(\"min\") == F.col(\"priority\"))\n",
    "\n",
    "# 4. normalize all the units\n",
    "cell_storage_df = cell_storage_df.withColumn(\n",
    "    \"storage_gb\",\n",
    "    F.when(F.col(\"storage_unit\") == F.lit(\"TB\"),\n",
    "           F.col(\"storage_amt\").cast(\"int\") * F.lit(1024)\n",
    "    ).otherwise(F.col(\"storage_amt\").cast(\"int\"))\n",
    ")\n",
    "\n",
    "# 5. filter out intermediate columns\n",
    "cell_storage_df = cell_storage_df.drop(\"text_norm\", \"priority\", \"min\", \"pattern\", \"storage_unit\", \"storage_amt\")\n",
    "\n",
    "display(cell_storage_df.limit(5))"
   ]
  },
  {
   "cell_type": "markdown",
   "metadata": {
    "application/vnd.databricks.v1+cell": {
     "cellMetadata": {
      "byteLimit": 2048000,
      "rowLimit": 10000
     },
     "inputWidgets": {},
     "nuid": "01d8d134-beea-41b6-a9a0-792606d0584f",
     "showTitle": false,
     "tableResultSettingsMap": {},
     "title": ""
    }
   },
   "source": [
    "### Extract brands"
   ]
  },
  {
   "cell_type": "code",
   "execution_count": 0,
   "metadata": {
    "application/vnd.databricks.v1+cell": {
     "cellMetadata": {
      "byteLimit": 2048000,
      "rowLimit": 10000
     },
     "inputWidgets": {},
     "nuid": "fe990f9d-7361-425f-b3e4-b7c3e901c371",
     "showTitle": false,
     "tableResultSettingsMap": {
      "0": {
       "dataGridStateBlob": "{\"version\":1,\"tableState\":{\"columnPinning\":{\"left\":[\"#row_number#\"],\"right\":[]},\"columnSizing\":{},\"columnVisibility\":{}},\"settings\":{\"columns\":{}},\"syncTimestamp\":1756855485205}",
       "filterBlob": null,
       "queryPlanFiltersBlob": null,
       "tableResultIndex": 0
      }
     },
     "title": ""
    }
   },
   "outputs": [],
   "source": [
    "# 1. Extract brand from postings\n",
    "cell_brand_df = cell_cpy.select(\"ID\", \"text_norm\").crossJoin(brand_df)\n",
    "cell_brand_df = cell_brand_df.withColumn(\n",
    "    \"brand_match\",\n",
    "    F.regexp_instr(\"text_norm\", \"pattern\")\n",
    ")\n",
    "# filter out non-matches\n",
    "cell_brand_df = cell_brand_df.where(F.col(\"brand_match\") != 0)\n",
    "\n",
    "# 2. Create table to identify first match\n",
    "first_inst_df = cell_brand_df.groupBy(\"ID\").agg(\n",
    "    F.min(\"brand_match\").alias(\"min\"),\n",
    "    F.count(\"brand\").alias(\"count\")\n",
    ")\n",
    "# filter out ads with many brands (usually repair or professional)\n",
    "first_inst_df = first_inst_df.filter(F.col(\"count\") <= 2)\n",
    "\n",
    "# 3. Keep only the first match\n",
    "cell_brand_df = cell_brand_df.join(first_inst_df, on=\"ID\", how=\"right_outer\")\n",
    "cell_brand_df = cell_brand_df.filter(F.col(\"min\") == F.col(\"brand_match\"))\n",
    "\n",
    "# remove intermediate columns\n",
    "cell_brand_df = cell_brand_df.drop(\"min\", \"count\", \"brand_match\", \"pattern\")\n",
    "\n",
    "display(cell_brand_df.limit(5))"
   ]
  },
  {
   "cell_type": "markdown",
   "metadata": {
    "application/vnd.databricks.v1+cell": {
     "cellMetadata": {
      "byteLimit": 2048000,
      "rowLimit": 10000
     },
     "inputWidgets": {},
     "nuid": "9dd62e2d-0a17-4bf7-a81a-33289e763c8f",
     "showTitle": false,
     "tableResultSettingsMap": {},
     "title": ""
    }
   },
   "source": [
    "### Extract model"
   ]
  },
  {
   "cell_type": "code",
   "execution_count": 0,
   "metadata": {
    "application/vnd.databricks.v1+cell": {
     "cellMetadata": {
      "byteLimit": 2048000,
      "rowLimit": 10000
     },
     "inputWidgets": {},
     "nuid": "29d0abf0-83c9-4a95-84ed-c834d8e74332",
     "showTitle": false,
     "tableResultSettingsMap": {
      "0": {
       "dataGridStateBlob": "{\"version\":1,\"tableState\":{\"columnPinning\":{\"left\":[\"#row_number#\"],\"right\":[]},\"columnSizing\":{},\"columnVisibility\":{}},\"settings\":{\"columns\":{}},\"syncTimestamp\":1756855729956}",
       "filterBlob": null,
       "queryPlanFiltersBlob": null,
       "tableResultIndex": 0
      }
     },
     "title": ""
    }
   },
   "outputs": [],
   "source": [
    "# 1. match models to the identified brands\n",
    "cell_model_df = cell_brand_df.join(\n",
    "        model_df.withColumnRenamed(\"url\", \"gsm_url\"),\n",
    "        \"brand\",\n",
    "        \"inner\"\n",
    "    )\n",
    "# match pattern\n",
    "cell_model_df = cell_model_df.withColumn(\n",
    "    \"model_match\",\n",
    "    F.regexp_instr(\"text_norm\", \"pattern\")\n",
    ")\n",
    "# filter out non-matches\n",
    "cell_model_df = cell_model_df.filter(F.col(\"model_match\") != 0)\n",
    "\n",
    "# 2. filter out ads with too many matches (likely repairs)\n",
    "repair_df = cell_model_df\\\n",
    "    .groupBy(\"ID\")\\\n",
    "    .count()\\\n",
    "    .filter(F.col(\"count\") < 10)\n",
    "\n",
    "cell_model_df = cell_model_df.join(repair_df, \"ID\", \"inner\")\n",
    "\n",
    "# 3. get the longest match\n",
    "longest_df = cell_model_df\\\n",
    "    .groupBy(\"ID\")\\\n",
    "    .agg(F.max(F.col(\"length\")).alias(\"max\"))\n",
    "\n",
    "cell_model_df = cell_model_df.join(longest_df, \"ID\", \"inner\")\n",
    "cell_model_df = cell_model_df.filter(F.col(\"max\") == F.col(\"length\"))\n",
    "\n",
    "# 4. get first match\n",
    "first_df = cell_model_df\\\n",
    "    .groupBy(\"ID\")\\\n",
    "    .agg(F.min(F.col(\"model_match\")).alias(\"min\"))\n",
    "\n",
    "cell_model_df = cell_model_df.join(first_df, \"ID\", \"inner\")\n",
    "cell_model_df = cell_model_df.filter(F.col(\"min\") == F.col(\"model_match\"))\n",
    "\n",
    "cell_model_df = cell_model_df.drop(\n",
    "    \"brand\", \"text_norm\", \"pattern\", \"length\",\n",
    "    \"model_match\", \"count\", \"max\", \"min\"\n",
    ")\n",
    "\n",
    "display(cell_model_df.limit(5))"
   ]
  },
  {
   "cell_type": "code",
   "execution_count": 0,
   "metadata": {
    "application/vnd.databricks.v1+cell": {
     "cellMetadata": {
      "byteLimit": 2048000,
      "rowLimit": 10000
     },
     "inputWidgets": {},
     "nuid": "c81289f5-3614-42fd-968e-63926ca41663",
     "showTitle": false,
     "tableResultSettingsMap": {
      "0": {
       "dataGridStateBlob": "{\"version\":1,\"tableState\":{\"columnPinning\":{\"left\":[\"#row_number#\"],\"right\":[]},\"columnSizing\":{},\"columnVisibility\":{}},\"settings\":{\"columns\":{\"url\":{\"format\":{\"preset\":\"string-preset-url\"}}}},\"syncTimestamp\":1756856053971}",
       "filterBlob": "{\"version\":1,\"filterGroups\":[],\"syncTimestamp\":1756857003526}",
       "queryPlanFiltersBlob": "[]",
       "tableResultIndex": 0
      }
     },
     "title": ""
    }
   },
   "outputs": [],
   "source": [
    "complete_df = cell_cpy\\\n",
    "    .join(cell_storage_df, \"ID\", \"left\")\\\n",
    "    .join(cell_brand_df.drop(\"text_norm\"), \"ID\", \"left\")\\\n",
    "    .join(cell_model_df, \"ID\", \"left\")\n",
    "\n",
    "display(complete_df.limit(5))"
   ]
  }
 ],
 "metadata": {
  "application/vnd.databricks.v1+notebook": {
   "computePreferences": {
    "hardware": {
     "accelerator": null,
     "gpuPoolId": null,
     "memory": null
    }
   },
   "dashboards": [],
   "environmentMetadata": {
    "base_environment": "",
    "environment_version": "2"
   },
   "inputWidgetPreferences": null,
   "language": "python",
   "notebookMetadata": {
    "pythonIndentUnit": 4
   },
   "notebookName": "raw_data",
   "widgets": {}
  },
  "language_info": {
   "name": "python"
  }
 },
 "nbformat": 4,
 "nbformat_minor": 0
}
